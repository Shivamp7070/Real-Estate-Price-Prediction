{
 "cells": [
  {
   "cell_type": "markdown",
   "id": "040b6659",
   "metadata": {},
   "source": [
    "# Importing Libraries"
   ]
  },
  {
   "cell_type": "code",
   "execution_count": 65,
   "id": "497b8b5a",
   "metadata": {},
   "outputs": [],
   "source": [
    "import pandas as pd\n",
    "import numpy as np\n",
    "import matplotlib.pyplot as plt\n",
    "import seaborn as sns\n",
    "from sklearn.compose import ColumnTransformer\n",
    "from sklearn.preprocessing import StandardScaler\n",
    "from sklearn.preprocessing import LabelEncoder\n",
    "from sklearn.model_selection import train_test_split\n",
    "from sklearn.linear_model import LinearRegression\n",
    "from sklearn.metrics import r2_score, mean_squared_error, mean_absolute_error\n",
    "import warnings\n",
    "warnings.filterwarnings('ignore')"
   ]
  },
  {
   "cell_type": "markdown",
   "id": "4c7364aa",
   "metadata": {},
   "source": [
    "# Cleaning of Data from Zillow website"
   ]
  },
  {
   "cell_type": "code",
   "execution_count": 66,
   "id": "3454141d",
   "metadata": {},
   "outputs": [],
   "source": [
    "# Loading dataset\n",
    "data1 = pd.read_csv('Zillow_60607_Chicago_Appartment_details.csv')"
   ]
  },
  {
   "cell_type": "code",
   "execution_count": 67,
   "id": "576c56d7",
   "metadata": {},
   "outputs": [],
   "source": [
    "df1 = data1.copy()"
   ]
  },
  {
   "cell_type": "code",
   "execution_count": 68,
   "id": "9faa3882",
   "metadata": {},
   "outputs": [
    {
     "data": {
      "text/html": [
       "<div>\n",
       "<style scoped>\n",
       "    .dataframe tbody tr th:only-of-type {\n",
       "        vertical-align: middle;\n",
       "    }\n",
       "\n",
       "    .dataframe tbody tr th {\n",
       "        vertical-align: top;\n",
       "    }\n",
       "\n",
       "    .dataframe thead th {\n",
       "        text-align: right;\n",
       "    }\n",
       "</style>\n",
       "<table border=\"1\" class=\"dataframe\">\n",
       "  <thead>\n",
       "    <tr style=\"text-align: right;\">\n",
       "      <th></th>\n",
       "      <th>Address</th>\n",
       "      <th>Bedrooms</th>\n",
       "      <th>Bathrooms</th>\n",
       "      <th>Rent</th>\n",
       "      <th>Area(sq.ft)</th>\n",
       "      <th>Price per sq.ft</th>\n",
       "      <th>Type of house</th>\n",
       "      <th>Transit Score</th>\n",
       "    </tr>\n",
       "  </thead>\n",
       "  <tbody>\n",
       "    <tr>\n",
       "      <th>0</th>\n",
       "      <td>1274 W Lexington St</td>\n",
       "      <td>6.0</td>\n",
       "      <td>4.0</td>\n",
       "      <td>1200000</td>\n",
       "      <td>3562.0</td>\n",
       "      <td>NaN</td>\n",
       "      <td>NaN</td>\n",
       "      <td>74 / 100  (Excellent Transit)</td>\n",
       "    </tr>\n",
       "    <tr>\n",
       "      <th>1</th>\n",
       "      <td>215 N Aberdeen St UNIT 403A</td>\n",
       "      <td>1.0</td>\n",
       "      <td>1.0</td>\n",
       "      <td>299100</td>\n",
       "      <td>800.0</td>\n",
       "      <td>NaN</td>\n",
       "      <td>NaN</td>\n",
       "      <td>78 / 100  (Excellent Transit)</td>\n",
       "    </tr>\n",
       "    <tr>\n",
       "      <th>2</th>\n",
       "      <td>331 S Peoria St APT 205</td>\n",
       "      <td>2.0</td>\n",
       "      <td>2.5</td>\n",
       "      <td>441700</td>\n",
       "      <td>1500.0</td>\n",
       "      <td>NaN</td>\n",
       "      <td>NaN</td>\n",
       "      <td>87 / 100  (Excellent Transit)</td>\n",
       "    </tr>\n",
       "    <tr>\n",
       "      <th>3</th>\n",
       "      <td>1013 S Laflin St #1</td>\n",
       "      <td>1.0</td>\n",
       "      <td>1.0</td>\n",
       "      <td>0</td>\n",
       "      <td>800.0</td>\n",
       "      <td>NaN</td>\n",
       "      <td>NaN</td>\n",
       "      <td>NaN</td>\n",
       "    </tr>\n",
       "    <tr>\n",
       "      <th>4</th>\n",
       "      <td>843 S Miller St</td>\n",
       "      <td>2.0</td>\n",
       "      <td>1.0</td>\n",
       "      <td>365700</td>\n",
       "      <td>856.0</td>\n",
       "      <td>NaN</td>\n",
       "      <td>NaN</td>\n",
       "      <td>75 / 100  (Excellent Transit)</td>\n",
       "    </tr>\n",
       "  </tbody>\n",
       "</table>\n",
       "</div>"
      ],
      "text/plain": [
       "                       Address  Bedrooms  Bathrooms     Rent  Area(sq.ft)  \\\n",
       "0          1274 W Lexington St       6.0        4.0  1200000       3562.0   \n",
       "1  215 N Aberdeen St UNIT 403A       1.0        1.0   299100        800.0   \n",
       "2      331 S Peoria St APT 205       2.0        2.5   441700       1500.0   \n",
       "3          1013 S Laflin St #1       1.0        1.0        0        800.0   \n",
       "4              843 S Miller St       2.0        1.0   365700        856.0   \n",
       "\n",
       "   Price per sq.ft  Type of house                  Transit Score  \n",
       "0              NaN            NaN  74 / 100  (Excellent Transit)  \n",
       "1              NaN            NaN  78 / 100  (Excellent Transit)  \n",
       "2              NaN            NaN  87 / 100  (Excellent Transit)  \n",
       "3              NaN            NaN                            NaN  \n",
       "4              NaN            NaN  75 / 100  (Excellent Transit)  "
      ]
     },
     "execution_count": 68,
     "metadata": {},
     "output_type": "execute_result"
    }
   ],
   "source": [
    "df1.head()"
   ]
  },
  {
   "cell_type": "code",
   "execution_count": 69,
   "id": "55c39a58",
   "metadata": {},
   "outputs": [
    {
     "data": {
      "text/html": [
       "<div>\n",
       "<style scoped>\n",
       "    .dataframe tbody tr th:only-of-type {\n",
       "        vertical-align: middle;\n",
       "    }\n",
       "\n",
       "    .dataframe tbody tr th {\n",
       "        vertical-align: top;\n",
       "    }\n",
       "\n",
       "    .dataframe thead th {\n",
       "        text-align: right;\n",
       "    }\n",
       "</style>\n",
       "<table border=\"1\" class=\"dataframe\">\n",
       "  <thead>\n",
       "    <tr style=\"text-align: right;\">\n",
       "      <th></th>\n",
       "      <th>Address</th>\n",
       "      <th>Bedrooms</th>\n",
       "      <th>Bathrooms</th>\n",
       "      <th>Rent</th>\n",
       "      <th>Area(sq.ft)</th>\n",
       "      <th>Price per sq.ft</th>\n",
       "      <th>Type of house</th>\n",
       "      <th>Transit Score</th>\n",
       "    </tr>\n",
       "  </thead>\n",
       "  <tbody>\n",
       "    <tr>\n",
       "      <th>0</th>\n",
       "      <td>1274 W Lexington St</td>\n",
       "      <td>6.0</td>\n",
       "      <td>4.0</td>\n",
       "      <td>1200000</td>\n",
       "      <td>3562.0</td>\n",
       "      <td>336.889388</td>\n",
       "      <td>NaN</td>\n",
       "      <td>74 / 100  (Excellent Transit)</td>\n",
       "    </tr>\n",
       "    <tr>\n",
       "      <th>1</th>\n",
       "      <td>215 N Aberdeen St UNIT 403A</td>\n",
       "      <td>1.0</td>\n",
       "      <td>1.0</td>\n",
       "      <td>299100</td>\n",
       "      <td>800.0</td>\n",
       "      <td>373.875000</td>\n",
       "      <td>NaN</td>\n",
       "      <td>78 / 100  (Excellent Transit)</td>\n",
       "    </tr>\n",
       "    <tr>\n",
       "      <th>2</th>\n",
       "      <td>331 S Peoria St APT 205</td>\n",
       "      <td>2.0</td>\n",
       "      <td>2.5</td>\n",
       "      <td>441700</td>\n",
       "      <td>1500.0</td>\n",
       "      <td>294.466667</td>\n",
       "      <td>NaN</td>\n",
       "      <td>87 / 100  (Excellent Transit)</td>\n",
       "    </tr>\n",
       "    <tr>\n",
       "      <th>3</th>\n",
       "      <td>1013 S Laflin St #1</td>\n",
       "      <td>1.0</td>\n",
       "      <td>1.0</td>\n",
       "      <td>0</td>\n",
       "      <td>800.0</td>\n",
       "      <td>0.000000</td>\n",
       "      <td>NaN</td>\n",
       "      <td>NaN</td>\n",
       "    </tr>\n",
       "    <tr>\n",
       "      <th>4</th>\n",
       "      <td>843 S Miller St</td>\n",
       "      <td>2.0</td>\n",
       "      <td>1.0</td>\n",
       "      <td>365700</td>\n",
       "      <td>856.0</td>\n",
       "      <td>427.219626</td>\n",
       "      <td>NaN</td>\n",
       "      <td>75 / 100  (Excellent Transit)</td>\n",
       "    </tr>\n",
       "  </tbody>\n",
       "</table>\n",
       "</div>"
      ],
      "text/plain": [
       "                       Address  Bedrooms  Bathrooms     Rent  Area(sq.ft)  \\\n",
       "0          1274 W Lexington St       6.0        4.0  1200000       3562.0   \n",
       "1  215 N Aberdeen St UNIT 403A       1.0        1.0   299100        800.0   \n",
       "2      331 S Peoria St APT 205       2.0        2.5   441700       1500.0   \n",
       "3          1013 S Laflin St #1       1.0        1.0        0        800.0   \n",
       "4              843 S Miller St       2.0        1.0   365700        856.0   \n",
       "\n",
       "   Price per sq.ft  Type of house                  Transit Score  \n",
       "0       336.889388            NaN  74 / 100  (Excellent Transit)  \n",
       "1       373.875000            NaN  78 / 100  (Excellent Transit)  \n",
       "2       294.466667            NaN  87 / 100  (Excellent Transit)  \n",
       "3         0.000000            NaN                            NaN  \n",
       "4       427.219626            NaN  75 / 100  (Excellent Transit)  "
      ]
     },
     "execution_count": 69,
     "metadata": {},
     "output_type": "execute_result"
    }
   ],
   "source": [
    "# calculating price per sq feet value\n",
    "df1['Price per sq.ft'] = df1['Rent']/df1['Area(sq.ft)']\n",
    "df1.head()"
   ]
  },
  {
   "cell_type": "code",
   "execution_count": 70,
   "id": "77afa058",
   "metadata": {},
   "outputs": [
    {
     "data": {
      "text/plain": [
       "(200, 8)"
      ]
     },
     "execution_count": 70,
     "metadata": {},
     "output_type": "execute_result"
    }
   ],
   "source": [
    "df1.shape"
   ]
  },
  {
   "cell_type": "code",
   "execution_count": 71,
   "id": "05e3a53f",
   "metadata": {},
   "outputs": [
    {
     "data": {
      "text/plain": [
       "Address              0\n",
       "Bedrooms            10\n",
       "Bathrooms            8\n",
       "Rent                 0\n",
       "Area(sq.ft)         23\n",
       "Price per sq.ft     23\n",
       "Type of house      200\n",
       "Transit Score       92\n",
       "dtype: int64"
      ]
     },
     "execution_count": 71,
     "metadata": {},
     "output_type": "execute_result"
    }
   ],
   "source": [
    "df1.isna().sum()"
   ]
  },
  {
   "cell_type": "code",
   "execution_count": 72,
   "id": "95a1d7d3",
   "metadata": {},
   "outputs": [],
   "source": [
    "df1 = df1[df1['Rent'] != 0]"
   ]
  },
  {
   "cell_type": "code",
   "execution_count": 73,
   "id": "ba357e4c",
   "metadata": {},
   "outputs": [
    {
     "data": {
      "text/plain": [
       "79 / 100  (Excellent Transit)    15\n",
       "74 / 100  (Excellent Transit)    12\n",
       "75 / 100  (Excellent Transit)     8\n",
       "100 / 100  (Rider's Paradise)     8\n",
       "72 / 100  (Excellent Transit)     7\n",
       "76 / 100  (Excellent Transit)     7\n",
       "87 / 100  (Excellent Transit)     6\n",
       "71 / 100  (Excellent Transit)     5\n",
       "78 / 100  (Excellent Transit)     5\n",
       "83 / 100  (Excellent Transit)     5\n",
       "88 / 100  (Excellent Transit)     2\n",
       "86 / 100  (Excellent Transit)     2\n",
       "73 / 100  (Excellent Transit)     2\n",
       "81 / 100  (Excellent Transit)     1\n",
       "97 / 100  (Rider's Paradise)      1\n",
       "77 / 100  (Excellent Transit)     1\n",
       "84 / 100  (Excellent Transit)     1\n",
       "90 / 100  (Rider's Paradise)      1\n",
       "92 / 100  (Biker's Paradise)      1\n",
       "Name: Transit Score, dtype: int64"
      ]
     },
     "execution_count": 73,
     "metadata": {},
     "output_type": "execute_result"
    }
   ],
   "source": [
    "df1['Transit Score'].value_counts()"
   ]
  },
  {
   "cell_type": "code",
   "execution_count": 74,
   "id": "bd107ee5",
   "metadata": {},
   "outputs": [],
   "source": [
    "df1['Transit Score'] = df1['Transit Score'].astype(str)\n",
    "df1['Transit Score'] = df1['Transit Score'].apply(lambda ele: ele.replace('\\xa0', ' '))\n",
    "df1['Transit Score'] = df1['Transit Score'].apply(lambda ele: ele.split(' ')[0])\n",
    "df1['Transit Score'] = df1['Transit Score'].astype(float)"
   ]
  },
  {
   "cell_type": "code",
   "execution_count": 75,
   "id": "b65ba699",
   "metadata": {},
   "outputs": [
    {
     "data": {
      "text/plain": [
       "79.0     15\n",
       "74.0     12\n",
       "75.0      8\n",
       "100.0     8\n",
       "72.0      7\n",
       "76.0      7\n",
       "87.0      6\n",
       "71.0      5\n",
       "78.0      5\n",
       "83.0      5\n",
       "88.0      2\n",
       "86.0      2\n",
       "73.0      2\n",
       "81.0      1\n",
       "97.0      1\n",
       "77.0      1\n",
       "84.0      1\n",
       "90.0      1\n",
       "92.0      1\n",
       "Name: Transit Score, dtype: int64"
      ]
     },
     "execution_count": 75,
     "metadata": {},
     "output_type": "execute_result"
    }
   ],
   "source": [
    "df1['Transit Score'].value_counts()"
   ]
  },
  {
   "cell_type": "code",
   "execution_count": 76,
   "id": "e9cf6213",
   "metadata": {},
   "outputs": [],
   "source": [
    "def get_house_type(num_bedrooms, price):\n",
    "    if num_bedrooms >= 4 and price >= 1000000:\n",
    "        return \"Luxury\"\n",
    "    elif 2 <= num_bedrooms <= 3 and 500000 <= price < 1000000:\n",
    "        return \"Residence\"\n",
    "    elif num_bedrooms <= 2 and price < 500000:\n",
    "        return \"Single Family\"\n",
    "    else:\n",
    "        return \"Other\""
   ]
  },
  {
   "cell_type": "code",
   "execution_count": 77,
   "id": "20ce7f8b",
   "metadata": {},
   "outputs": [],
   "source": [
    "df1[\"Type of house\"] = df1.apply(lambda row: get_house_type(row[\"Bedrooms\"], row[\"Rent\"]), axis=1)\n"
   ]
  },
  {
   "cell_type": "code",
   "execution_count": 78,
   "id": "4438ce30",
   "metadata": {},
   "outputs": [
    {
     "data": {
      "text/html": [
       "<div>\n",
       "<style scoped>\n",
       "    .dataframe tbody tr th:only-of-type {\n",
       "        vertical-align: middle;\n",
       "    }\n",
       "\n",
       "    .dataframe tbody tr th {\n",
       "        vertical-align: top;\n",
       "    }\n",
       "\n",
       "    .dataframe thead th {\n",
       "        text-align: right;\n",
       "    }\n",
       "</style>\n",
       "<table border=\"1\" class=\"dataframe\">\n",
       "  <thead>\n",
       "    <tr style=\"text-align: right;\">\n",
       "      <th></th>\n",
       "      <th>Address</th>\n",
       "      <th>Bedrooms</th>\n",
       "      <th>Bathrooms</th>\n",
       "      <th>Rent</th>\n",
       "      <th>Area(sq.ft)</th>\n",
       "      <th>Price per sq.ft</th>\n",
       "      <th>Type of house</th>\n",
       "      <th>Transit Score</th>\n",
       "    </tr>\n",
       "  </thead>\n",
       "  <tbody>\n",
       "    <tr>\n",
       "      <th>0</th>\n",
       "      <td>1274 W Lexington St</td>\n",
       "      <td>6.0</td>\n",
       "      <td>4.0</td>\n",
       "      <td>1200000</td>\n",
       "      <td>3562.0</td>\n",
       "      <td>336.889388</td>\n",
       "      <td>Luxury</td>\n",
       "      <td>74.0</td>\n",
       "    </tr>\n",
       "    <tr>\n",
       "      <th>1</th>\n",
       "      <td>215 N Aberdeen St UNIT 403A</td>\n",
       "      <td>1.0</td>\n",
       "      <td>1.0</td>\n",
       "      <td>299100</td>\n",
       "      <td>800.0</td>\n",
       "      <td>373.875000</td>\n",
       "      <td>Single Family</td>\n",
       "      <td>78.0</td>\n",
       "    </tr>\n",
       "    <tr>\n",
       "      <th>2</th>\n",
       "      <td>331 S Peoria St APT 205</td>\n",
       "      <td>2.0</td>\n",
       "      <td>2.5</td>\n",
       "      <td>441700</td>\n",
       "      <td>1500.0</td>\n",
       "      <td>294.466667</td>\n",
       "      <td>Single Family</td>\n",
       "      <td>87.0</td>\n",
       "    </tr>\n",
       "    <tr>\n",
       "      <th>4</th>\n",
       "      <td>843 S Miller St</td>\n",
       "      <td>2.0</td>\n",
       "      <td>1.0</td>\n",
       "      <td>365700</td>\n",
       "      <td>856.0</td>\n",
       "      <td>427.219626</td>\n",
       "      <td>Single Family</td>\n",
       "      <td>75.0</td>\n",
       "    </tr>\n",
       "    <tr>\n",
       "      <th>5</th>\n",
       "      <td>215 N Green St #2</td>\n",
       "      <td>3.0</td>\n",
       "      <td>2.5</td>\n",
       "      <td>9000</td>\n",
       "      <td>3000.0</td>\n",
       "      <td>3.000000</td>\n",
       "      <td>Other</td>\n",
       "      <td>NaN</td>\n",
       "    </tr>\n",
       "  </tbody>\n",
       "</table>\n",
       "</div>"
      ],
      "text/plain": [
       "                       Address  Bedrooms  Bathrooms     Rent  Area(sq.ft)  \\\n",
       "0          1274 W Lexington St       6.0        4.0  1200000       3562.0   \n",
       "1  215 N Aberdeen St UNIT 403A       1.0        1.0   299100        800.0   \n",
       "2      331 S Peoria St APT 205       2.0        2.5   441700       1500.0   \n",
       "4              843 S Miller St       2.0        1.0   365700        856.0   \n",
       "5            215 N Green St #2       3.0        2.5     9000       3000.0   \n",
       "\n",
       "   Price per sq.ft  Type of house  Transit Score  \n",
       "0       336.889388         Luxury           74.0  \n",
       "1       373.875000  Single Family           78.0  \n",
       "2       294.466667  Single Family           87.0  \n",
       "4       427.219626  Single Family           75.0  \n",
       "5         3.000000          Other            NaN  "
      ]
     },
     "execution_count": 78,
     "metadata": {},
     "output_type": "execute_result"
    }
   ],
   "source": [
    "df1.head()"
   ]
  },
  {
   "cell_type": "code",
   "execution_count": 79,
   "id": "3a9e41b5",
   "metadata": {},
   "outputs": [
    {
     "data": {
      "text/plain": [
       "(158, 8)"
      ]
     },
     "execution_count": 79,
     "metadata": {},
     "output_type": "execute_result"
    }
   ],
   "source": [
    "df1.shape"
   ]
  },
  {
   "cell_type": "code",
   "execution_count": 80,
   "id": "c4cb281c",
   "metadata": {},
   "outputs": [
    {
     "data": {
      "text/plain": [
       "Address             0\n",
       "Bedrooms           10\n",
       "Bathrooms           8\n",
       "Rent                0\n",
       "Area(sq.ft)        19\n",
       "Price per sq.ft    19\n",
       "Type of house       0\n",
       "Transit Score      68\n",
       "dtype: int64"
      ]
     },
     "execution_count": 80,
     "metadata": {},
     "output_type": "execute_result"
    }
   ],
   "source": [
    "df1.isna().sum()"
   ]
  },
  {
   "cell_type": "code",
   "execution_count": 81,
   "id": "2c41a674",
   "metadata": {},
   "outputs": [],
   "source": [
    "median_score = df1['Transit Score'].median()\n",
    "df1['Transit Score'].fillna(median_score, inplace=True)"
   ]
  },
  {
   "cell_type": "code",
   "execution_count": 82,
   "id": "353e1c29",
   "metadata": {},
   "outputs": [
    {
     "data": {
      "text/plain": [
       "Address             0\n",
       "Bedrooms           10\n",
       "Bathrooms           8\n",
       "Rent                0\n",
       "Area(sq.ft)        19\n",
       "Price per sq.ft    19\n",
       "Type of house       0\n",
       "Transit Score       0\n",
       "dtype: int64"
      ]
     },
     "execution_count": 82,
     "metadata": {},
     "output_type": "execute_result"
    }
   ],
   "source": [
    "df1.isna().sum()"
   ]
  },
  {
   "cell_type": "code",
   "execution_count": 83,
   "id": "81a1a0f5",
   "metadata": {},
   "outputs": [
    {
     "data": {
      "text/plain": [
       "(158, 8)"
      ]
     },
     "execution_count": 83,
     "metadata": {},
     "output_type": "execute_result"
    }
   ],
   "source": [
    "df1.shape"
   ]
  },
  {
   "cell_type": "code",
   "execution_count": 84,
   "id": "9bdde007",
   "metadata": {},
   "outputs": [
    {
     "data": {
      "text/html": [
       "<div>\n",
       "<style scoped>\n",
       "    .dataframe tbody tr th:only-of-type {\n",
       "        vertical-align: middle;\n",
       "    }\n",
       "\n",
       "    .dataframe tbody tr th {\n",
       "        vertical-align: top;\n",
       "    }\n",
       "\n",
       "    .dataframe thead th {\n",
       "        text-align: right;\n",
       "    }\n",
       "</style>\n",
       "<table border=\"1\" class=\"dataframe\">\n",
       "  <thead>\n",
       "    <tr style=\"text-align: right;\">\n",
       "      <th></th>\n",
       "      <th>Address</th>\n",
       "      <th>Bedrooms</th>\n",
       "      <th>Bathrooms</th>\n",
       "      <th>Rent</th>\n",
       "      <th>Area(sq.ft)</th>\n",
       "      <th>Price per sq.ft</th>\n",
       "      <th>Type of house</th>\n",
       "      <th>Transit Score</th>\n",
       "    </tr>\n",
       "  </thead>\n",
       "  <tbody>\n",
       "    <tr>\n",
       "      <th>0</th>\n",
       "      <td>1274 W Lexington St</td>\n",
       "      <td>6.0</td>\n",
       "      <td>4.0</td>\n",
       "      <td>1200000</td>\n",
       "      <td>3562.0</td>\n",
       "      <td>336.889388</td>\n",
       "      <td>Luxury</td>\n",
       "      <td>74.0</td>\n",
       "    </tr>\n",
       "    <tr>\n",
       "      <th>1</th>\n",
       "      <td>215 N Aberdeen St UNIT 403A</td>\n",
       "      <td>1.0</td>\n",
       "      <td>1.0</td>\n",
       "      <td>299100</td>\n",
       "      <td>800.0</td>\n",
       "      <td>373.875000</td>\n",
       "      <td>Single Family</td>\n",
       "      <td>78.0</td>\n",
       "    </tr>\n",
       "    <tr>\n",
       "      <th>2</th>\n",
       "      <td>331 S Peoria St APT 205</td>\n",
       "      <td>2.0</td>\n",
       "      <td>2.5</td>\n",
       "      <td>441700</td>\n",
       "      <td>1500.0</td>\n",
       "      <td>294.466667</td>\n",
       "      <td>Single Family</td>\n",
       "      <td>87.0</td>\n",
       "    </tr>\n",
       "    <tr>\n",
       "      <th>4</th>\n",
       "      <td>843 S Miller St</td>\n",
       "      <td>2.0</td>\n",
       "      <td>1.0</td>\n",
       "      <td>365700</td>\n",
       "      <td>856.0</td>\n",
       "      <td>427.219626</td>\n",
       "      <td>Single Family</td>\n",
       "      <td>75.0</td>\n",
       "    </tr>\n",
       "    <tr>\n",
       "      <th>5</th>\n",
       "      <td>215 N Green St #2</td>\n",
       "      <td>3.0</td>\n",
       "      <td>2.5</td>\n",
       "      <td>9000</td>\n",
       "      <td>3000.0</td>\n",
       "      <td>3.000000</td>\n",
       "      <td>Other</td>\n",
       "      <td>78.0</td>\n",
       "    </tr>\n",
       "  </tbody>\n",
       "</table>\n",
       "</div>"
      ],
      "text/plain": [
       "                       Address  Bedrooms  Bathrooms     Rent  Area(sq.ft)  \\\n",
       "0          1274 W Lexington St       6.0        4.0  1200000       3562.0   \n",
       "1  215 N Aberdeen St UNIT 403A       1.0        1.0   299100        800.0   \n",
       "2      331 S Peoria St APT 205       2.0        2.5   441700       1500.0   \n",
       "4              843 S Miller St       2.0        1.0   365700        856.0   \n",
       "5            215 N Green St #2       3.0        2.5     9000       3000.0   \n",
       "\n",
       "   Price per sq.ft  Type of house  Transit Score  \n",
       "0       336.889388         Luxury           74.0  \n",
       "1       373.875000  Single Family           78.0  \n",
       "2       294.466667  Single Family           87.0  \n",
       "4       427.219626  Single Family           75.0  \n",
       "5         3.000000          Other           78.0  "
      ]
     },
     "execution_count": 84,
     "metadata": {},
     "output_type": "execute_result"
    }
   ],
   "source": [
    "df1.head()"
   ]
  },
  {
   "cell_type": "code",
   "execution_count": 85,
   "id": "232296e9",
   "metadata": {},
   "outputs": [
    {
     "data": {
      "text/plain": [
       "(137, 8)"
      ]
     },
     "execution_count": 85,
     "metadata": {},
     "output_type": "execute_result"
    }
   ],
   "source": [
    "df1.dropna(inplace=True)\n",
    "df1.shape"
   ]
  },
  {
   "cell_type": "markdown",
   "id": "caa4ddc3",
   "metadata": {},
   "source": [
    "# Cleaning of Data from Appartments website"
   ]
  },
  {
   "cell_type": "code",
   "execution_count": 86,
   "id": "7bd58ee2",
   "metadata": {},
   "outputs": [],
   "source": [
    "data2 = pd.read_csv(\"data.csv\")"
   ]
  },
  {
   "cell_type": "code",
   "execution_count": 87,
   "id": "e940994b",
   "metadata": {},
   "outputs": [
    {
     "data": {
      "text/html": [
       "<div>\n",
       "<style scoped>\n",
       "    .dataframe tbody tr th:only-of-type {\n",
       "        vertical-align: middle;\n",
       "    }\n",
       "\n",
       "    .dataframe tbody tr th {\n",
       "        vertical-align: top;\n",
       "    }\n",
       "\n",
       "    .dataframe thead th {\n",
       "        text-align: right;\n",
       "    }\n",
       "</style>\n",
       "<table border=\"1\" class=\"dataframe\">\n",
       "  <thead>\n",
       "    <tr style=\"text-align: right;\">\n",
       "      <th></th>\n",
       "      <th>Address</th>\n",
       "      <th>Bedrooms</th>\n",
       "      <th>Bathrooms</th>\n",
       "      <th>Rent</th>\n",
       "      <th>Total Area</th>\n",
       "      <th>Price per Sq.Ft.</th>\n",
       "      <th>Transit Score</th>\n",
       "      <th>Type of House</th>\n",
       "    </tr>\n",
       "  </thead>\n",
       "  <tbody>\n",
       "    <tr>\n",
       "      <th>0</th>\n",
       "      <td>123 S Green St Unit 910B Chicago,IL60607–West ...</td>\n",
       "      <td>1</td>\n",
       "      <td>1.0</td>\n",
       "      <td>2300</td>\n",
       "      <td>800.0</td>\n",
       "      <td>2.875000</td>\n",
       "      <td>90</td>\n",
       "      <td>NaN</td>\n",
       "    </tr>\n",
       "    <tr>\n",
       "      <th>1</th>\n",
       "      <td>707 W Wayman St Chicago,IL60661–West Loop</td>\n",
       "      <td>2</td>\n",
       "      <td>2.0</td>\n",
       "      <td>3400</td>\n",
       "      <td>NaN</td>\n",
       "      <td>0.000000</td>\n",
       "      <td>86</td>\n",
       "      <td>NaN</td>\n",
       "    </tr>\n",
       "    <tr>\n",
       "      <th>2</th>\n",
       "      <td>111 S Peoria St Unit 403 Chicago,IL60607–Fulto...</td>\n",
       "      <td>3</td>\n",
       "      <td>3.5</td>\n",
       "      <td>7600</td>\n",
       "      <td>NaN</td>\n",
       "      <td>0.000000</td>\n",
       "      <td>88</td>\n",
       "      <td>NaN</td>\n",
       "    </tr>\n",
       "    <tr>\n",
       "      <th>3</th>\n",
       "      <td>719 S Loomis St Unit GRD Chicago,IL60607–Littl...</td>\n",
       "      <td>3</td>\n",
       "      <td>1.0</td>\n",
       "      <td>2000</td>\n",
       "      <td>1300.0</td>\n",
       "      <td>1.538462</td>\n",
       "      <td>70</td>\n",
       "      <td>NaN</td>\n",
       "    </tr>\n",
       "    <tr>\n",
       "      <th>4</th>\n",
       "      <td>948 W Madison St Unit 5NW Chicago,IL60607–West...</td>\n",
       "      <td>2</td>\n",
       "      <td>2.0</td>\n",
       "      <td>3200</td>\n",
       "      <td>1025.0</td>\n",
       "      <td>3.121951</td>\n",
       "      <td>83</td>\n",
       "      <td>NaN</td>\n",
       "    </tr>\n",
       "  </tbody>\n",
       "</table>\n",
       "</div>"
      ],
      "text/plain": [
       "                                             Address Bedrooms  Bathrooms  \\\n",
       "0  123 S Green St Unit 910B Chicago,IL60607–West ...        1        1.0   \n",
       "1          707 W Wayman St Chicago,IL60661–West Loop        2        2.0   \n",
       "2  111 S Peoria St Unit 403 Chicago,IL60607–Fulto...        3        3.5   \n",
       "3  719 S Loomis St Unit GRD Chicago,IL60607–Littl...        3        1.0   \n",
       "4  948 W Madison St Unit 5NW Chicago,IL60607–West...        2        2.0   \n",
       "\n",
       "   Rent  Total Area  Price per Sq.Ft. Transit Score  Type of House  \n",
       "0  2300       800.0          2.875000            90            NaN  \n",
       "1  3400         NaN          0.000000            86            NaN  \n",
       "2  7600         NaN          0.000000            88            NaN  \n",
       "3  2000      1300.0          1.538462            70            NaN  \n",
       "4  3200      1025.0          3.121951            83            NaN  "
      ]
     },
     "execution_count": 87,
     "metadata": {},
     "output_type": "execute_result"
    }
   ],
   "source": [
    "data2.head()"
   ]
  },
  {
   "cell_type": "code",
   "execution_count": 88,
   "id": "05ae11be",
   "metadata": {},
   "outputs": [
    {
     "data": {
      "text/plain": [
       "(696, 8)"
      ]
     },
     "execution_count": 88,
     "metadata": {},
     "output_type": "execute_result"
    }
   ],
   "source": [
    "data2.shape"
   ]
  },
  {
   "cell_type": "code",
   "execution_count": 89,
   "id": "7e103c31",
   "metadata": {},
   "outputs": [],
   "source": [
    "df2 = data2.copy()"
   ]
  },
  {
   "cell_type": "code",
   "execution_count": 90,
   "id": "85b73ae5",
   "metadata": {},
   "outputs": [],
   "source": [
    "df2['Transit Score'] = df2['Transit Score'].replace('-', np.nan)"
   ]
  },
  {
   "cell_type": "code",
   "execution_count": 91,
   "id": "645cbe58",
   "metadata": {},
   "outputs": [],
   "source": [
    "median_score = df2['Transit Score'].median()\n",
    "df2['Transit Score'].fillna(median_score, inplace=True)"
   ]
  },
  {
   "cell_type": "code",
   "execution_count": 92,
   "id": "aaa4152a",
   "metadata": {},
   "outputs": [
    {
     "data": {
      "text/plain": [
       "(696, 8)"
      ]
     },
     "execution_count": 92,
     "metadata": {},
     "output_type": "execute_result"
    }
   ],
   "source": [
    "df2.shape"
   ]
  },
  {
   "cell_type": "code",
   "execution_count": 93,
   "id": "4d78be52",
   "metadata": {},
   "outputs": [
    {
     "data": {
      "text/plain": [
       "138"
      ]
     },
     "execution_count": 93,
     "metadata": {},
     "output_type": "execute_result"
    }
   ],
   "source": [
    "df2['Total Area'].isna().sum()"
   ]
  },
  {
   "cell_type": "code",
   "execution_count": 94,
   "id": "cef9e50a",
   "metadata": {},
   "outputs": [],
   "source": [
    "df2.dropna(subset=['Total Area'], inplace=True)"
   ]
  },
  {
   "cell_type": "code",
   "execution_count": 95,
   "id": "ee303072",
   "metadata": {},
   "outputs": [
    {
     "data": {
      "text/plain": [
       "(558, 8)"
      ]
     },
     "execution_count": 95,
     "metadata": {},
     "output_type": "execute_result"
    }
   ],
   "source": [
    "df2.shape"
   ]
  },
  {
   "cell_type": "code",
   "execution_count": 96,
   "id": "c26d0f7f",
   "metadata": {},
   "outputs": [
    {
     "data": {
      "text/plain": [
       "Address               0\n",
       "Bedrooms              0\n",
       "Bathrooms             0\n",
       "Rent                  0\n",
       "Total Area            0\n",
       "Price per Sq.Ft.      0\n",
       "Transit Score         0\n",
       "Type of House       558\n",
       "dtype: int64"
      ]
     },
     "execution_count": 96,
     "metadata": {},
     "output_type": "execute_result"
    }
   ],
   "source": [
    "df2.isna().sum()"
   ]
  },
  {
   "cell_type": "code",
   "execution_count": 97,
   "id": "714ec45a",
   "metadata": {},
   "outputs": [],
   "source": [
    "def get_house_type(num_bedrooms, price):\n",
    "    if num_bedrooms >= 4 and price >= 1000000:\n",
    "        return \"Luxury\"\n",
    "    elif 2 <= num_bedrooms <= 3 and 500000 <= price < 1000000:\n",
    "        return \"Residence\"\n",
    "    elif num_bedrooms <= 2 and price < 500000:\n",
    "        return \"Single Family\"\n",
    "    else:\n",
    "        return \"Other\""
   ]
  },
  {
   "cell_type": "code",
   "execution_count": 98,
   "id": "08f52d52",
   "metadata": {},
   "outputs": [
    {
     "data": {
      "text/plain": [
       "2         253\n",
       "1         168\n",
       "3          83\n",
       "Studio     40\n",
       "4          11\n",
       "5           3\n",
       "Name: Bedrooms, dtype: int64"
      ]
     },
     "execution_count": 98,
     "metadata": {},
     "output_type": "execute_result"
    }
   ],
   "source": [
    "df2['Bedrooms'].value_counts()"
   ]
  },
  {
   "cell_type": "code",
   "execution_count": 99,
   "id": "a99a5168",
   "metadata": {},
   "outputs": [],
   "source": [
    "df2['Bedrooms'] = df2['Bedrooms'].replace(\"Studio\", 1)"
   ]
  },
  {
   "cell_type": "code",
   "execution_count": 100,
   "id": "2ee4b81c",
   "metadata": {},
   "outputs": [],
   "source": [
    "df2['Bedrooms'] = df2['Bedrooms'].astype(float)"
   ]
  },
  {
   "cell_type": "code",
   "execution_count": 101,
   "id": "3f17d8fc",
   "metadata": {},
   "outputs": [],
   "source": [
    "df2[\"Type of house\"] = df2.apply(lambda row: get_house_type(row[\"Bedrooms\"], row[\"Rent\"]), axis=1)"
   ]
  },
  {
   "cell_type": "code",
   "execution_count": 102,
   "id": "5c50f095",
   "metadata": {},
   "outputs": [
    {
     "data": {
      "text/plain": [
       "Address               0\n",
       "Bedrooms              0\n",
       "Bathrooms             0\n",
       "Rent                  0\n",
       "Total Area            0\n",
       "Price per Sq.Ft.      0\n",
       "Transit Score         0\n",
       "Type of House       558\n",
       "Type of house         0\n",
       "dtype: int64"
      ]
     },
     "execution_count": 102,
     "metadata": {},
     "output_type": "execute_result"
    }
   ],
   "source": [
    "df2.isna().sum()"
   ]
  },
  {
   "cell_type": "code",
   "execution_count": 103,
   "id": "93c7f1f3",
   "metadata": {},
   "outputs": [],
   "source": [
    "df2.drop('Type of House', axis=1, inplace=True)"
   ]
  },
  {
   "cell_type": "code",
   "execution_count": 104,
   "id": "07e47587",
   "metadata": {},
   "outputs": [
    {
     "data": {
      "text/plain": [
       "Address             0\n",
       "Bedrooms            0\n",
       "Bathrooms           0\n",
       "Rent                0\n",
       "Total Area          0\n",
       "Price per Sq.Ft.    0\n",
       "Transit Score       0\n",
       "Type of house       0\n",
       "dtype: int64"
      ]
     },
     "execution_count": 104,
     "metadata": {},
     "output_type": "execute_result"
    }
   ],
   "source": [
    "df2.isna().sum()"
   ]
  },
  {
   "cell_type": "code",
   "execution_count": 105,
   "id": "eecd77d8",
   "metadata": {},
   "outputs": [
    {
     "data": {
      "text/plain": [
       "Index(['Address', 'Bedrooms', 'Bathrooms', 'Rent', 'Area(sq.ft)',\n",
       "       'Price per sq.ft', 'Type of house', 'Transit Score'],\n",
       "      dtype='object')"
      ]
     },
     "execution_count": 105,
     "metadata": {},
     "output_type": "execute_result"
    }
   ],
   "source": [
    "df1.columns"
   ]
  },
  {
   "cell_type": "code",
   "execution_count": 106,
   "id": "75b0c1ca",
   "metadata": {},
   "outputs": [
    {
     "data": {
      "text/plain": [
       "Index(['Address', 'Bedrooms', 'Bathrooms', 'Rent', 'Total Area',\n",
       "       'Price per Sq.Ft.', 'Transit Score', 'Type of house'],\n",
       "      dtype='object')"
      ]
     },
     "execution_count": 106,
     "metadata": {},
     "output_type": "execute_result"
    }
   ],
   "source": [
    "df2.columns"
   ]
  },
  {
   "cell_type": "code",
   "execution_count": 107,
   "id": "83912758",
   "metadata": {},
   "outputs": [],
   "source": [
    "df1 = df1.rename(columns={'Area(sq.ft)': 'Total Area'})"
   ]
  },
  {
   "cell_type": "code",
   "execution_count": 108,
   "id": "e4c06129",
   "metadata": {},
   "outputs": [],
   "source": [
    "df1 = df1.rename(columns={'Price per sq.ft': 'Price per sqft'})"
   ]
  },
  {
   "cell_type": "code",
   "execution_count": 109,
   "id": "72cb1957",
   "metadata": {},
   "outputs": [],
   "source": [
    "df2 = df2.rename(columns={'Price per Sq.Ft.': 'Price per sqft'})"
   ]
  },
  {
   "cell_type": "code",
   "execution_count": 110,
   "id": "63da0641",
   "metadata": {},
   "outputs": [
    {
     "data": {
      "text/plain": [
       "Index(['Address', 'Bedrooms', 'Bathrooms', 'Rent', 'Total Area',\n",
       "       'Price per sqft', 'Type of house', 'Transit Score'],\n",
       "      dtype='object')"
      ]
     },
     "execution_count": 110,
     "metadata": {},
     "output_type": "execute_result"
    }
   ],
   "source": [
    "df1.columns"
   ]
  },
  {
   "cell_type": "code",
   "execution_count": 111,
   "id": "da2b2af4",
   "metadata": {},
   "outputs": [
    {
     "data": {
      "text/plain": [
       "Index(['Address', 'Bedrooms', 'Bathrooms', 'Rent', 'Total Area',\n",
       "       'Price per sqft', 'Transit Score', 'Type of house'],\n",
       "      dtype='object')"
      ]
     },
     "execution_count": 111,
     "metadata": {},
     "output_type": "execute_result"
    }
   ],
   "source": [
    "df2.columns"
   ]
  },
  {
   "cell_type": "code",
   "execution_count": 112,
   "id": "c44ff9a9",
   "metadata": {},
   "outputs": [],
   "source": [
    "merged_df = pd.concat([df1, df2])"
   ]
  },
  {
   "cell_type": "code",
   "execution_count": 113,
   "id": "242c0d93",
   "metadata": {},
   "outputs": [
    {
     "data": {
      "text/plain": [
       "(695, 8)"
      ]
     },
     "execution_count": 113,
     "metadata": {},
     "output_type": "execute_result"
    }
   ],
   "source": [
    "merged_df.shape"
   ]
  },
  {
   "cell_type": "code",
   "execution_count": 114,
   "id": "87a72f79",
   "metadata": {},
   "outputs": [
    {
     "data": {
      "text/plain": [
       "Index(['Address', 'Bedrooms', 'Bathrooms', 'Rent', 'Total Area',\n",
       "       'Price per sqft', 'Type of house', 'Transit Score'],\n",
       "      dtype='object')"
      ]
     },
     "execution_count": 114,
     "metadata": {},
     "output_type": "execute_result"
    }
   ],
   "source": [
    "merged_df.columns"
   ]
  },
  {
   "cell_type": "code",
   "execution_count": 115,
   "id": "b19fd639",
   "metadata": {},
   "outputs": [
    {
     "data": {
      "text/html": [
       "<div>\n",
       "<style scoped>\n",
       "    .dataframe tbody tr th:only-of-type {\n",
       "        vertical-align: middle;\n",
       "    }\n",
       "\n",
       "    .dataframe tbody tr th {\n",
       "        vertical-align: top;\n",
       "    }\n",
       "\n",
       "    .dataframe thead th {\n",
       "        text-align: right;\n",
       "    }\n",
       "</style>\n",
       "<table border=\"1\" class=\"dataframe\">\n",
       "  <thead>\n",
       "    <tr style=\"text-align: right;\">\n",
       "      <th></th>\n",
       "      <th>Address</th>\n",
       "      <th>Bedrooms</th>\n",
       "      <th>Bathrooms</th>\n",
       "      <th>Rent</th>\n",
       "      <th>Total Area</th>\n",
       "      <th>Price per sqft</th>\n",
       "      <th>Type of house</th>\n",
       "      <th>Transit Score</th>\n",
       "    </tr>\n",
       "  </thead>\n",
       "  <tbody>\n",
       "    <tr>\n",
       "      <th>0</th>\n",
       "      <td>1274 W Lexington St</td>\n",
       "      <td>6.0</td>\n",
       "      <td>4.0</td>\n",
       "      <td>1200000</td>\n",
       "      <td>3562.0</td>\n",
       "      <td>336.889388</td>\n",
       "      <td>Luxury</td>\n",
       "      <td>74.0</td>\n",
       "    </tr>\n",
       "    <tr>\n",
       "      <th>1</th>\n",
       "      <td>215 N Aberdeen St UNIT 403A</td>\n",
       "      <td>1.0</td>\n",
       "      <td>1.0</td>\n",
       "      <td>299100</td>\n",
       "      <td>800.0</td>\n",
       "      <td>373.875000</td>\n",
       "      <td>Single Family</td>\n",
       "      <td>78.0</td>\n",
       "    </tr>\n",
       "    <tr>\n",
       "      <th>2</th>\n",
       "      <td>331 S Peoria St APT 205</td>\n",
       "      <td>2.0</td>\n",
       "      <td>2.5</td>\n",
       "      <td>441700</td>\n",
       "      <td>1500.0</td>\n",
       "      <td>294.466667</td>\n",
       "      <td>Single Family</td>\n",
       "      <td>87.0</td>\n",
       "    </tr>\n",
       "    <tr>\n",
       "      <th>4</th>\n",
       "      <td>843 S Miller St</td>\n",
       "      <td>2.0</td>\n",
       "      <td>1.0</td>\n",
       "      <td>365700</td>\n",
       "      <td>856.0</td>\n",
       "      <td>427.219626</td>\n",
       "      <td>Single Family</td>\n",
       "      <td>75.0</td>\n",
       "    </tr>\n",
       "    <tr>\n",
       "      <th>5</th>\n",
       "      <td>215 N Green St #2</td>\n",
       "      <td>3.0</td>\n",
       "      <td>2.5</td>\n",
       "      <td>9000</td>\n",
       "      <td>3000.0</td>\n",
       "      <td>3.000000</td>\n",
       "      <td>Other</td>\n",
       "      <td>78.0</td>\n",
       "    </tr>\n",
       "  </tbody>\n",
       "</table>\n",
       "</div>"
      ],
      "text/plain": [
       "                       Address  Bedrooms  Bathrooms     Rent  Total Area  \\\n",
       "0          1274 W Lexington St       6.0        4.0  1200000      3562.0   \n",
       "1  215 N Aberdeen St UNIT 403A       1.0        1.0   299100       800.0   \n",
       "2      331 S Peoria St APT 205       2.0        2.5   441700      1500.0   \n",
       "4              843 S Miller St       2.0        1.0   365700       856.0   \n",
       "5            215 N Green St #2       3.0        2.5     9000      3000.0   \n",
       "\n",
       "   Price per sqft  Type of house Transit Score  \n",
       "0      336.889388         Luxury          74.0  \n",
       "1      373.875000  Single Family          78.0  \n",
       "2      294.466667  Single Family          87.0  \n",
       "4      427.219626  Single Family          75.0  \n",
       "5        3.000000          Other          78.0  "
      ]
     },
     "execution_count": 115,
     "metadata": {},
     "output_type": "execute_result"
    }
   ],
   "source": [
    "merged_df.head()"
   ]
  },
  {
   "cell_type": "code",
   "execution_count": 116,
   "id": "75df9455",
   "metadata": {},
   "outputs": [],
   "source": [
    "merged_df = merged_df[merged_df['Price per sqft']!=np.inf]"
   ]
  },
  {
   "cell_type": "code",
   "execution_count": 117,
   "id": "5f5d696f",
   "metadata": {},
   "outputs": [],
   "source": [
    "merged_df.to_csv('Cleaned Data.csv')"
   ]
  },
  {
   "cell_type": "markdown",
   "id": "1a3d1765",
   "metadata": {},
   "source": [
    "# Pre-processing and Visualization"
   ]
  },
  {
   "cell_type": "code",
   "execution_count": 118,
   "id": "7aad6646",
   "metadata": {},
   "outputs": [],
   "source": [
    "data =  merged_df.copy()"
   ]
  },
  {
   "cell_type": "code",
   "execution_count": 145,
   "id": "8931eabe",
   "metadata": {},
   "outputs": [
    {
     "data": {
      "text/plain": [
       "Single Family    518\n",
       "Other            124\n",
       "Residence         23\n",
       "Luxury             7\n",
       "Name: Type of house, dtype: int64"
      ]
     },
     "execution_count": 145,
     "metadata": {},
     "output_type": "execute_result"
    }
   ],
   "source": [
    "data['Type of house'].value_counts()"
   ]
  },
  {
   "cell_type": "code",
   "execution_count": 149,
   "id": "4c84093b",
   "metadata": {},
   "outputs": [
    {
     "data": {
      "text/plain": [
       "<AxesSubplot: ylabel='Type of house'>"
      ]
     },
     "execution_count": 149,
     "metadata": {},
     "output_type": "execute_result"
    },
    {
     "data": {
      "image/png": "[encoded data removed]",
      "text/plain": [
       "<Figure size 640x480 with 1 Axes>"
      ]
     },
     "metadata": {},
     "output_type": "display_data"
    }
   ],
   "source": [
    "\n",
    "data['Type of house'].value_counts().plot(kind='pie',autopct=\"%.2f\")"
   ]
  },
  {
   "cell_type": "code",
   "execution_count": 146,
   "id": "6476032d",
   "metadata": {},
   "outputs": [
    {
     "data": {
      "text/plain": [
       "6.0"
      ]
     },
     "execution_count": 146,
     "metadata": {},
     "output_type": "execute_result"
    }
   ],
   "source": [
    "max(data['Bedrooms'])"
   ]
  },
  {
   "cell_type": "code",
   "execution_count": 147,
   "id": "a3843730",
   "metadata": {},
   "outputs": [
    {
     "data": {
      "text/plain": [
       "1.0"
      ]
     },
     "execution_count": 147,
     "metadata": {},
     "output_type": "execute_result"
    }
   ],
   "source": [
    "min(data['Bedrooms'])"
   ]
  },
  {
   "cell_type": "code",
   "execution_count": 150,
   "id": "40c1d359",
   "metadata": {},
   "outputs": [
    {
     "data": {
      "text/plain": [
       "<AxesSubplot: ylabel='Bedrooms'>"
      ]
     },
     "execution_count": 150,
     "metadata": {},
     "output_type": "execute_result"
    },
    {
     "data": {
      "image/png": "[encoded data removed]",
      "text/plain": [
       "<Figure size 640x480 with 1 Axes>"
      ]
     },
     "metadata": {},
     "output_type": "display_data"
    }
   ],
   "source": [
    "\n",
    "data['Bedrooms'].value_counts().plot(kind='pie',autopct=\"%.2f\")"
   ]
  },
  {
   "cell_type": "code",
   "execution_count": 151,
   "id": "c4a9314c",
   "metadata": {},
   "outputs": [
    {
     "data": {
      "text/plain": [
       "<AxesSubplot: ylabel='Bathrooms'>"
      ]
     },
     "execution_count": 151,
     "metadata": {},
     "output_type": "execute_result"
    },
    {
     "data": {
      "image/png": "[encoded data removed]",
      "text/plain": [
       "<Figure size 640x480 with 1 Axes>"
      ]
     },
     "metadata": {},
     "output_type": "display_data"
    }
   ],
   "source": [
    "data['Bathrooms'].value_counts().plot(kind='pie',autopct=\"%.2f\")"
   ]
  },
  {
   "cell_type": "code",
   "execution_count": 119,
   "id": "1325fb28",
   "metadata": {},
   "outputs": [],
   "source": [
    "# drop the 'Address' column\n",
    "data.drop('Address', axis=1, inplace=True)"
   ]
  },
  {
   "cell_type": "code",
   "execution_count": 120,
   "id": "487e3731",
   "metadata": {},
   "outputs": [
    {
     "data": {
      "text/plain": [
       "<AxesSubplot: >"
      ]
     },
     "execution_count": 120,
     "metadata": {},
     "output_type": "execute_result"
    },
    {
     "data": {
      "image/png": "[encoded data removed]",
      "text/plain": [
       "<Figure size 640x480 with 2 Axes>"
      ]
     },
     "metadata": {},
     "output_type": "display_data"
    }
   ],
   "source": [
    "corr_matrix = data.corr()\n",
    "# Create a heatmap of the correlation matrix using seaborn\n",
    "sns.heatmap(corr_matrix, cmap='coolwarm', annot=True)"
   ]
  },
  {
   "cell_type": "code",
   "execution_count": 144,
   "id": "595cbd86",
   "metadata": {},
   "outputs": [
    {
     "name": "stdout",
     "output_type": "stream",
     "text": [
      "dict_values(['red', 'blue', 'green', 'yellow'])\n"
     ]
    },
    {
     "data": {
      "image/png": "[encoded data removed]",
      "text/plain": [
       "<Figure size 640x480 with 1 Axes>"
      ]
     },
     "metadata": {},
     "output_type": "display_data"
    }
   ],
   "source": [
    "plot_data = data.copy()\n",
    "# Map house types to colors\n",
    "colors = {'Luxury': 'red', 'Single Family': 'blue', 'Other': 'green', 'Residence': \"yellow\"}\n",
    "plot_data['Color'] = plot_data['Type of house'].map(colors)\n",
    "# Create a scatter plot with price per square foot on the y-axis and number of bedrooms on the x-axis\n",
    "plt.scatter(plot_data['Bedrooms'], plot_data['Price per sqft'], c=plot_data['Color'], alpha=0.7)\n",
    "\n",
    "# Add a title and labels for the x- and y- axes\n",
    "plt.title('Price per Square Foot vs. Number of Bedrooms')\n",
    "plt.xlabel('Number of Bedrooms')\n",
    "plt.ylabel('Price per Square Foot ($)')\n",
    "# Add a legend to show the color-coded house type\n",
    "plt.legend(title='Type of House', labels = list(colors.keys()))\n",
    "\n",
    "# Add a trend line to show the overall relationship between the variables\n",
    "z = np.polyfit(plot_data['Bedrooms'], plot_data['Price per sqft'], 1)\n",
    "p = np.poly1d(z)\n",
    "plt.plot(plot_data['Bedrooms'], p(plot_data['Bedrooms']), \"r--\")\n",
    "\n",
    "# Show the plot\n",
    "plt.show()"
   ]
  },
  {
   "cell_type": "code",
   "execution_count": 58,
   "id": "a809e03a",
   "metadata": {},
   "outputs": [],
   "source": [
    "# Perform one hot encoding\n",
    "one_hot = pd.get_dummies(data['Type of house'])\n",
    "\n",
    "# Concatenate the one hot encoded DataFrame with the original DataFrame\n",
    "data = pd.concat([data, one_hot], axis=1)\n",
    "\n",
    "# Drop the original categorical column\n",
    "data.drop('Type of house', axis=1, inplace=True)"
   ]
  },
  {
   "cell_type": "code",
   "execution_count": 59,
   "id": "e9a98d93",
   "metadata": {},
   "outputs": [],
   "source": [
    "y = data['Rent']\n",
    "X = data.drop('Rent', axis=1)"
   ]
  },
  {
   "cell_type": "code",
   "execution_count": 60,
   "id": "a4b32e6e",
   "metadata": {},
   "outputs": [],
   "source": [
    "# split the data into training and test sets\n",
    "X_train, X_test, y_train, y_test = train_test_split(X, y, test_size=0.2, random_state=42)"
   ]
  },
  {
   "cell_type": "code",
   "execution_count": 61,
   "id": "0e005f48",
   "metadata": {
    "scrolled": true
   },
   "outputs": [],
   "source": [
    "# standardize the numerical variables\n",
    "scaler = StandardScaler()\n",
    "X_train = scaler.fit_transform(X_train)\n",
    "X_test = scaler.transform(X_test)"
   ]
  },
  {
   "cell_type": "markdown",
   "id": "f8f1d56b",
   "metadata": {},
   "source": [
    "# Training, Testing and Evaluation"
   ]
  },
  {
   "cell_type": "code",
   "execution_count": 62,
   "id": "db647b5c",
   "metadata": {},
   "outputs": [
    {
     "name": "stdout",
     "output_type": "stream",
     "text": [
      "Intercept: 73988.71929800005\n",
      "Coefficients: [-3.94810319e+03  1.78890598e+04  8.26571268e+03  1.57213792e+05\n",
      " -2.98259887e+02 -3.17961252e+17 -1.66704328e+18 -7.25306878e+17\n",
      " -1.77705796e+18]\n"
     ]
    }
   ],
   "source": [
    "# create a linear regression model and fit it to the data\n",
    "model = LinearRegression()\n",
    "model.fit(X_train, y_train)\n",
    "\n",
    "# print the coefficients of the model\n",
    "print('Intercept:', model.intercept_)\n",
    "print('Coefficients:', model.coef_)"
   ]
  },
  {
   "cell_type": "code",
   "execution_count": 63,
   "id": "90d2563b",
   "metadata": {},
   "outputs": [
    {
     "name": "stdout",
     "output_type": "stream",
     "text": [
      "R-squared: 0.801\n",
      "MSE: 22129744547.294\n",
      "RMSE: 148760.696\n",
      "MAE: 43989.748\n"
     ]
    }
   ],
   "source": [
    "# make predictions on the training set\n",
    "y_pred = model.predict(X_test)\n",
    "\n",
    "# calculate R-squared, MSE, RMSE, and MAE\n",
    "r2 = r2_score(y_test, y_pred)\n",
    "mse = mean_squared_error(y_test, y_pred)\n",
    "rmse = mean_squared_error(y_test, y_pred, squared=False)\n",
    "mae = mean_absolute_error(y_test, y_pred)\n",
    "\n",
    "# print the results\n",
    "print(\"R-squared: {:.3f}\".format(r2))\n",
    "print(\"MSE: {:.3f}\".format(mse))\n",
    "print(\"RMSE: {:.3f}\".format(rmse))\n",
    "print(\"MAE: {:.3f}\".format(mae))"
   ]
  }
 ],
 "metadata": {
  "kernelspec": {
   "display_name": "Python 3 (ipykernel)",
   "language": "python",
   "name": "python3"
  },
  "language_info": {
   "codemirror_mode": {
    "name": "ipython",
    "version": 3
   },
   "file_extension": ".py",
   "mimetype": "text/x-python",
   "name": "python",
   "nbconvert_exporter": "python",
   "pygments_lexer": "ipython3",
   "version": "3.8.16"
  }
 },
 "nbformat": 4,
 "nbformat_minor": 5
}
